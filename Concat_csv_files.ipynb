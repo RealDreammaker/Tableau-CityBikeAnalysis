{
 "cells": [
  {
   "cell_type": "code",
   "execution_count": 1,
   "id": "05ec2c1e-157f-466b-a0a1-2579e544b6e6",
   "metadata": {},
   "outputs": [],
   "source": [
    "## Merge Multiple 1M Rows CSV files\n",
    "import os\n",
    "import pandas as pd\n",
    "outputpath = \"C:/Users/knguy/Documents/Homework/Tableau/Output/\""
   ]
  },
  {
   "cell_type": "code",
   "execution_count": 3,
   "id": "19be3208-24bb-46cf-94e3-3f057833ce9c",
   "metadata": {},
   "outputs": [
    {
     "name": "stdout",
     "output_type": "stream",
     "text": [
      "['C:/Users/knguy/Documents/Homework/Tableau/Output/JC-201901-citibike-tripdata.csv', 'C:/Users/knguy/Documents/Homework/Tableau/Output/JC-201902-citibike-tripdata.csv', 'C:/Users/knguy/Documents/Homework/Tableau/Output/JC-201903-citibike-tripdata.csv', 'C:/Users/knguy/Documents/Homework/Tableau/Output/JC-201904-citibike-tripdata.csv', 'C:/Users/knguy/Documents/Homework/Tableau/Output/JC-201905-citibike-tripdata.csv', 'C:/Users/knguy/Documents/Homework/Tableau/Output/JC-201906-citibike-tripdata.csv', 'C:/Users/knguy/Documents/Homework/Tableau/Output/JC-201907-citibike-tripdata.csv', 'C:/Users/knguy/Documents/Homework/Tableau/Output/JC-201908-citibike-tripdata.csv', 'C:/Users/knguy/Documents/Homework/Tableau/Output/JC-201909-citibike-tripdata.csv', 'C:/Users/knguy/Documents/Homework/Tableau/Output/JC-201910-citibike-tripdata.csv', 'C:/Users/knguy/Documents/Homework/Tableau/Output/JC-201911-citibike-tripdata.csv', 'C:/Users/knguy/Documents/Homework/Tableau/Output/JC-201912-citibike-tripdata.csv', 'C:/Users/knguy/Documents/Homework/Tableau/Output/JC-202001-citibike-tripdata.csv', 'C:/Users/knguy/Documents/Homework/Tableau/Output/JC-202002-citibike-tripdata.csv', 'C:/Users/knguy/Documents/Homework/Tableau/Output/JC-202003-citibike-tripdata.csv', 'C:/Users/knguy/Documents/Homework/Tableau/Output/JC-202004-citibike-tripdata.csv', 'C:/Users/knguy/Documents/Homework/Tableau/Output/JC-202005-citibike-tripdata.csv', 'C:/Users/knguy/Documents/Homework/Tableau/Output/JC-202006-citibike-tripdata.csv', 'C:/Users/knguy/Documents/Homework/Tableau/Output/JC-202007-citibike-tripdata.csv', 'C:/Users/knguy/Documents/Homework/Tableau/Output/JC-202008-citibike-tripdata.csv', 'C:/Users/knguy/Documents/Homework/Tableau/Output/JC-202009-citibike-tripdata.csv', 'C:/Users/knguy/Documents/Homework/Tableau/Output/JC-202010-citibike-tripdata.csv', 'C:/Users/knguy/Documents/Homework/Tableau/Output/JC-202011-citibike-tripdata.csv', 'C:/Users/knguy/Documents/Homework/Tableau/Output/JC-202012-citibike-tripdata.csv', 'C:/Users/knguy/Documents/Homework/Tableau/Output/JC-202101-citibike-tripdata.csv', 'C:/Users/knguy/Documents/Homework/Tableau/Output/JC-202102-citibike-tripdata.csv', 'C:/Users/knguy/Documents/Homework/Tableau/Output/JC-202103-citibike-tripdata.csv', 'C:/Users/knguy/Documents/Homework/Tableau/Output/JC-202104-citibike-tripdata.csv', 'C:/Users/knguy/Documents/Homework/Tableau/Output/JC-202105-citibike-tripdata.csv', 'C:/Users/knguy/Documents/Homework/Tableau/Output/JC-202106-citibike-tripdata.csv', 'C:/Users/knguy/Documents/Homework/Tableau/Output/JC-202107-citibike-tripdata.csv', 'C:/Users/knguy/Documents/Homework/Tableau/Output/JC-202108-citibike-tripdata.csv', 'C:/Users/knguy/Documents/Homework/Tableau/Output/JC-202109-citibike-tripdata.csv', 'C:/Users/knguy/Documents/Homework/Tableau/Output/JC-202110-citibike-tripdata.csv', 'C:/Users/knguy/Documents/Homework/Tableau/Output/JC-202111-citibike-tripdata.csv', 'C:/Users/knguy/Documents/Homework/Tableau/Output/JC-202112-citibike-tripdata.csv']\n",
      "36\n"
     ]
    }
   ],
   "source": [
    "# 2. creates list with files to merge based on name convention\n",
    "\n",
    "\n",
    "file_list = [outputpath + f for f in os.listdir(outputpath)]\n",
    "print(file_list)\n",
    "print(len(file_list))"
   ]
  },
  {
   "cell_type": "code",
   "execution_count": 4,
   "id": "e3509d0c-182c-4072-9ca3-5e4b33dfbfe3",
   "metadata": {},
   "outputs": [],
   "source": [
    "# 3. creates empty list to include the content of each file converted to pandas DF\n",
    "csv_list = []\n",
    "\n",
    "\n",
    "# 4. reads each (sorted) file in file_list, converts it to pandas DF and appends it to the csv_list\n",
    "for file in sorted(file_list):\n",
    "    csv_list.append(pd.read_csv(file).assign(File_Name = os.path.basename(file)))\n",
    "    \n",
    "\n",
    "# 5. merges single pandas DFs into a single DF, index is refreshed \n",
    "csv_merged = pd.concat(csv_list, ignore_index=True)\n",
    "\n",
    "pathForFull = \"C:/Users/knguy/Documents/Homework/Tableau/Full/\"\n",
    "\n",
    "# 6. Single DF is saved to the path in CSV format, without index column\n",
    "csv_merged.to_csv(pathForFull + 'citibike-tripdata-full-test.csv', index=False)"
   ]
  },
  {
   "cell_type": "code",
   "execution_count": null,
   "id": "6bdf0fff-0b23-4d6f-8548-2448af2bfdc3",
   "metadata": {},
   "outputs": [],
   "source": []
  }
 ],
 "metadata": {
  "kernelspec": {
   "display_name": "Python 3 (ipykernel)",
   "language": "python",
   "name": "python3"
  },
  "language_info": {
   "codemirror_mode": {
    "name": "ipython",
    "version": 3
   },
   "file_extension": ".py",
   "mimetype": "text/x-python",
   "name": "python",
   "nbconvert_exporter": "python",
   "pygments_lexer": "ipython3",
   "version": "3.8.8"
  }
 },
 "nbformat": 4,
 "nbformat_minor": 5
}
